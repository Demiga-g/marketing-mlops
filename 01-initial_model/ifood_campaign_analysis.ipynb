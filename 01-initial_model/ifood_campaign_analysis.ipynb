{
 "cells": [
  {
   "cell_type": "code",
   "execution_count": 1,
   "metadata": {},
   "outputs": [
    {
     "name": "stdout",
     "output_type": "stream",
     "text": [
      "Python 3.9.16\n"
     ]
    }
   ],
   "source": [
    "# Checking Python's version\n",
    "!python -V"
   ]
  },
  {
   "cell_type": "code",
   "execution_count": 2,
   "metadata": {},
   "outputs": [],
   "source": [
    "# Importing libraries\n",
    "\n",
    "import pandas as pd\n",
    "import seaborn as sns\n",
    "import matplotlib.pyplot as plt\n",
    "\n",
    "import category_encoders as ce\n",
    "from sklearn.pipeline import Pipeline\n",
    "from sklearn.impute import SimpleImputer\n",
    "from sklearn.compose import ColumnTransformer\n",
    "from sklearn.preprocessing import MinMaxScaler, Normalizer, StandardScaler\n",
    "from sklearn.linear_model import LogisticRegression\n",
    "from sklearn.feature_extraction import DictVectorizer\n",
    "from sklearn.metrics import (roc_auc_score,\n",
    "                             confusion_matrix,\n",
    "                             classification_report)"
   ]
  },
  {
   "cell_type": "code",
   "execution_count": 3,
   "metadata": {},
   "outputs": [],
   "source": [
    "# # Import data\n",
    "# df = pd.read_csv('./data/marketing_campaign.csv', delimiter=';')"
   ]
  },
  {
   "cell_type": "code",
   "execution_count": 4,
   "metadata": {},
   "outputs": [],
   "source": [
    "# # Check data information\n",
    "# df.info()"
   ]
  },
  {
   "cell_type": "code",
   "execution_count": 5,
   "metadata": {},
   "outputs": [],
   "source": [
    "# # Transform `Dt_Customer` to datetime dtype\n",
    "# df['Dt_Customer'] = pd.to_datetime(df['Dt_Customer'])"
   ]
  },
  {
   "cell_type": "code",
   "execution_count": 6,
   "metadata": {},
   "outputs": [],
   "source": [
    "# # Training and Validation Data\n",
    "\n",
    "# # Check year range of the data\n",
    "# df[\"Dt_Customer\"].max().year\n",
    "# df[\"Dt_Customer\"].min().year\n",
    "\n",
    "# # Use years before 2014 as training data\n",
    "# training_data = (\n",
    "#     df[df['Dt_Customer'].dt.year < 2014]\n",
    "#     .reset_index()\n",
    "#     .drop(['index'], axis=1)\n",
    "# )\n",
    "\n",
    "# # Use 2014 as the validation data\n",
    "# validation_data = (\n",
    "#     df[df['Dt_Customer'].dt.year >=2014].reset_index()\n",
    "#     .drop(['index'], axis=1)\n",
    "# )\n",
    "\n",
    "# # Save training data to folder\n",
    "# training_data.to_csv('./data/training_data.csv', index=False)\n",
    "\n",
    "# # Save validation data to folder\n",
    "# validation_data.to_csv('./data/validation_data.csv', index=False)\n",
    "\n",
    "# # Check shape of training and validation data\n",
    "# training_data.shape, validation_data.shape"
   ]
  },
  {
   "cell_type": "code",
   "execution_count": 7,
   "metadata": {},
   "outputs": [],
   "source": [
    "df_train = pd.read_csv('./data/training_data.csv')\n",
    "df_val = pd.read_csv('./data/validation_data.csv')"
   ]
  },
  {
   "cell_type": "code",
   "execution_count": 8,
   "metadata": {},
   "outputs": [
    {
     "name": "stdout",
     "output_type": "stream",
     "text": [
      "<class 'pandas.core.frame.DataFrame'>\n",
      "RangeIndex: 1683 entries, 0 to 1682\n",
      "Data columns (total 29 columns):\n",
      " #   Column               Non-Null Count  Dtype  \n",
      "---  ------               --------------  -----  \n",
      " 0   ID                   1683 non-null   int64  \n",
      " 1   Year_Birth           1683 non-null   int64  \n",
      " 2   Education            1683 non-null   object \n",
      " 3   Marital_Status       1683 non-null   object \n",
      " 4   Income               1663 non-null   float64\n",
      " 5   Kidhome              1683 non-null   int64  \n",
      " 6   Teenhome             1683 non-null   int64  \n",
      " 7   Dt_Customer          1683 non-null   object \n",
      " 8   Recency              1683 non-null   int64  \n",
      " 9   MntWines             1683 non-null   int64  \n",
      " 10  MntFruits            1683 non-null   int64  \n",
      " 11  MntMeatProducts      1683 non-null   int64  \n",
      " 12  MntFishProducts      1683 non-null   int64  \n",
      " 13  MntSweetProducts     1683 non-null   int64  \n",
      " 14  MntGoldProds         1683 non-null   int64  \n",
      " 15  NumDealsPurchases    1683 non-null   int64  \n",
      " 16  NumWebPurchases      1683 non-null   int64  \n",
      " 17  NumCatalogPurchases  1683 non-null   int64  \n",
      " 18  NumStorePurchases    1683 non-null   int64  \n",
      " 19  NumWebVisitsMonth    1683 non-null   int64  \n",
      " 20  AcceptedCmp3         1683 non-null   int64  \n",
      " 21  AcceptedCmp4         1683 non-null   int64  \n",
      " 22  AcceptedCmp5         1683 non-null   int64  \n",
      " 23  AcceptedCmp1         1683 non-null   int64  \n",
      " 24  AcceptedCmp2         1683 non-null   int64  \n",
      " 25  Complain             1683 non-null   int64  \n",
      " 26  Z_CostContact        1683 non-null   int64  \n",
      " 27  Z_Revenue            1683 non-null   int64  \n",
      " 28  Response             1683 non-null   int64  \n",
      "dtypes: float64(1), int64(25), object(3)\n",
      "memory usage: 381.4+ KB\n"
     ]
    }
   ],
   "source": [
    "df_train.info()"
   ]
  },
  {
   "cell_type": "code",
   "execution_count": 9,
   "metadata": {},
   "outputs": [],
   "source": [
    "# Check feature diversity\n",
    "df_train.nunique()\n",
    "\n",
    "# Droping redundant features\n",
    "red_ftrs_1 = [\"ID\", \"Dt_Customer\", \"Z_CostContact\", \"Z_Revenue\", \"Response\"]\n",
    "\n",
    "y_train = df_train['Response']\n",
    "y_val = df_val['Response']\n",
    "\n",
    "df_train_2 = df_train.copy()\n",
    "df_train = df_train.drop(red_ftrs_1, axis=1)"
   ]
  },
  {
   "cell_type": "code",
   "execution_count": 10,
   "metadata": {},
   "outputs": [],
   "source": [
    "# Creating list of categorical features\n",
    "categ_ftrs_1 = list(\n",
    "    df_train.nunique()\n",
    "    [(df_train.nunique() <= 8)]\n",
    "    .index\n",
    ")\n",
    "not_categ = ['TeenHome', 'KidHome']\n",
    "categ_ftrs_1 = [categ for categ in categ_ftrs_1 \n",
    "              if categ not in not_categ]\n",
    "\n",
    "# Creating a list of numerical features\n",
    "num_ftrs_1 = [col for col in df_train.columns \n",
    "            if col not in categ_ftrs_1]\n"
   ]
  },
  {
   "cell_type": "code",
   "execution_count": 11,
   "metadata": {},
   "outputs": [],
   "source": [
    "# Handling missing values\n",
    "df_train.isna().sum()\n",
    "\n",
    "df_train[num_ftrs_1] = (\n",
    "    df_train[num_ftrs_1].fillna(df_train[num_ftrs_1].median())\n",
    ")\n",
    "\n",
    "df_train[categ_ftrs_1] = (\n",
    "    df_train[categ_ftrs_1].fillna(df_train[categ_ftrs_1].mode().iloc[0])\n",
    ")"
   ]
  },
  {
   "cell_type": "code",
   "execution_count": 12,
   "metadata": {},
   "outputs": [],
   "source": [
    "# look at purchases as a whole\n",
    "purchases = list(df_train.filter(regex='Purchases').columns)\n",
    "df_train['total_purchases'] = (\n",
    "    df_train['NumCatalogPurchases'] + df_train['NumDealsPurchases'] + \n",
    "    df_train['NumStorePurchases'] + df_train['NumWebPurchases']\n",
    ")\n",
    "\n",
    "# look at amounts as a whole\n",
    "amount = list(df_train.filter(regex='Mnt').columns)\n",
    "df_train['total_amount'] = (\n",
    "    df_train['MntFishProducts'] + df_train['MntFruits'] + \n",
    "    df_train['MntGoldProds'] + df_train['MntMeatProducts'] + \n",
    "    df_train['MntSweetProducts'] + df_train['MntWines']\n",
    ")\n",
    "\n",
    "# add a dependants feature\n",
    "dependants = list(df_train.filter(regex='home').columns)\n",
    "df_train['dependants'] = df_train['Kidhome'] + df_train['Teenhome']\n",
    "\n",
    "# Drop redundant features\n",
    "red_ftrs_2 = dependants+amount+purchases\n",
    "df_train = df_train.drop(red_ftrs_2, axis=1)"
   ]
  },
  {
   "cell_type": "code",
   "execution_count": 13,
   "metadata": {},
   "outputs": [],
   "source": [
    "# Creating list of categorical features\n",
    "categ_ftrs_2 = list(\n",
    "    df_train.nunique()\n",
    "    [(df_train.nunique() <= 8)]\n",
    "    .index\n",
    ")\n",
    "\n",
    "categ_ftrs_2 = [categ for categ in categ_ftrs_2\n",
    "              if categ not in ['dependants']]\n",
    "\n",
    "# Encode categorical variables\n",
    "df_train[categ_ftrs_2] = (\n",
    "    df_train[categ_ftrs_2].astype('category')\n",
    "    .apply(lambda x: x.cat.codes)\n",
    "    ) \n",
    "\n",
    "# Creating a list of numerical features\n",
    "num_ftrs_2 = [col for col in df_train.columns \n",
    "            if col not in categ_ftrs_2]\n"
   ]
  },
  {
   "cell_type": "code",
   "execution_count": 14,
   "metadata": {},
   "outputs": [
    {
     "data": {
      "image/png": "[encoded data removed]",
      "text/plain": [
       "<Figure size 800x400 with 8 Axes>"
      ]
     },
     "metadata": {},
     "output_type": "display_data"
    }
   ],
   "source": [
    "# Check distribution of numerical features\n",
    "fig, axes = plt.subplots(2, 4, figsize=(8, 4))\n",
    "axes = axes.flatten()\n",
    "\n",
    "for i, var in enumerate(num_ftrs_2):\n",
    "        sns.histplot(x=var, ax=axes[i], data=df_train, kde=True, )\n",
    "plt.tight_layout()"
   ]
  },
  {
   "cell_type": "code",
   "execution_count": 15,
   "metadata": {},
   "outputs": [],
   "source": [
    "def clean_data(df):\n",
    "    \n",
    "    # Drop redundant features\n",
    "    df = df.drop(red_ftrs_1, axis=1)\n",
    "    \n",
    "    # Handling missing values and transformations\n",
    "    num_transformer = Pipeline(steps=[\n",
    "        ('imputer', SimpleImputer(strategy='median')),\n",
    "        ('normalize', MinMaxScaler()),\n",
    "    ])\n",
    "    \n",
    "    ct = ColumnTransformer([\n",
    "        ('num_trans', num_transformer, num_ftrs_1),\n",
    "        ('cat_trans', SimpleImputer(strategy='most_frequent'), categ_ftrs_1)\n",
    "    ])\n",
    "    \n",
    "    df = pd.DataFrame(ct.fit_transform(df), columns=num_ftrs_1+categ_ftrs_1)\n",
    "    \n",
    "    # Compute total purchase\n",
    "    df['total_purchases'] = (\n",
    "        df['NumCatalogPurchases'] + df['NumDealsPurchases'] + \n",
    "        df['NumStorePurchases'] + df['NumWebPurchases']\n",
    "    )\n",
    "    \n",
    "    # Compute total amount\n",
    "    df['total_amount'] = (\n",
    "        df['MntFishProducts'] + df['MntFruits'] + \n",
    "        df['MntGoldProds'] + df['MntMeatProducts'] +\n",
    "        df['MntSweetProducts'] + df['MntWines']\n",
    "    )\n",
    "    \n",
    "    # Add a `dependants` feature\n",
    "    df['dependants'] = df['Kidhome'] + df['Teenhome']\n",
    "    \n",
    "    \n",
    "    # Drop superflous columns\n",
    "    df = df.drop(red_ftrs_2, axis=1)\n",
    "\n",
    "    # Encode categorical variables\n",
    "    df[categ_ftrs_2] = (\n",
    "        df[categ_ftrs_2].astype('category')\n",
    "        .apply(lambda x: x.cat.codes)\n",
    "    ) \n",
    "    \n",
    "    return df"
   ]
  },
  {
   "cell_type": "code",
   "execution_count": 16,
   "metadata": {},
   "outputs": [],
   "source": [
    "train_dicts= clean_data(df_train_2).to_dict(orient='records')\n",
    "val_dicts = clean_data(df_val).to_dict(orient='records')"
   ]
  },
  {
   "cell_type": "code",
   "execution_count": 17,
   "metadata": {},
   "outputs": [],
   "source": [
    "dv = DictVectorizer()\n",
    "X_train = dv.fit_transform(train_dicts)\n",
    "X_val = dv.transform(val_dicts)"
   ]
  },
  {
   "cell_type": "code",
   "execution_count": 18,
   "metadata": {},
   "outputs": [
    {
     "name": "stdout",
     "output_type": "stream",
     "text": [
      "              precision    recall  f1-score   support\n",
      "\n",
      "           0       0.88      0.97      0.92      1397\n",
      "           1       0.74      0.35      0.48       286\n",
      "\n",
      "    accuracy                           0.87      1683\n",
      "   macro avg       0.81      0.66      0.70      1683\n",
      "weighted avg       0.86      0.87      0.85      1683\n",
      "\n"
     ]
    },
    {
     "name": "stderr",
     "output_type": "stream",
     "text": [
      "/home/mgubuntu/anaconda3/envs/marketing_MLOps/lib/python3.9/site-packages/sklearn/linear_model/_logistic.py:814: ConvergenceWarning: lbfgs failed to converge (status=1):\n",
      "STOP: TOTAL NO. of ITERATIONS REACHED LIMIT.\n",
      "\n",
      "Increase the number of iterations (max_iter) or scale the data as shown in:\n",
      "    https://scikit-learn.org/stable/modules/preprocessing.html\n",
      "Please also refer to the documentation for alternative solver options:\n",
      "    https://scikit-learn.org/stable/modules/linear_model.html#logistic-regression\n",
      "  n_iter_i = _check_optimize_result(\n"
     ]
    }
   ],
   "source": [
    "lr = LogisticRegression()\n",
    "lr.fit(X_train, y_train.values)\n",
    "y_pred = lr.predict(X_train)\n",
    "print(classification_report(y_train, y_pred))"
   ]
  },
  {
   "cell_type": "code",
   "execution_count": 19,
   "metadata": {},
   "outputs": [
    {
     "name": "stderr",
     "output_type": "stream",
     "text": [
      "/home/mgubuntu/anaconda3/envs/marketing_MLOps/lib/python3.9/site-packages/sklearn/linear_model/_logistic.py:814: ConvergenceWarning: lbfgs failed to converge (status=1):\n",
      "STOP: TOTAL NO. of ITERATIONS REACHED LIMIT.\n",
      "\n",
      "Increase the number of iterations (max_iter) or scale the data as shown in:\n",
      "    https://scikit-learn.org/stable/modules/preprocessing.html\n",
      "Please also refer to the documentation for alternative solver options:\n",
      "    https://scikit-learn.org/stable/modules/linear_model.html#logistic-regression\n",
      "  n_iter_i = _check_optimize_result(\n"
     ]
    }
   ],
   "source": [
    "lr = LogisticRegression()\n",
    "lr.fit(X_train, y_train)\n",
    "y_pred = lr.predict(X_val)"
   ]
  },
  {
   "cell_type": "code",
   "execution_count": 20,
   "metadata": {},
   "outputs": [
    {
     "data": {
      "text/html": [
       "<div>\n",
       "<style scoped>\n",
       "    .dataframe tbody tr th:only-of-type {\n",
       "        vertical-align: middle;\n",
       "    }\n",
       "\n",
       "    .dataframe tbody tr th {\n",
       "        vertical-align: top;\n",
       "    }\n",
       "\n",
       "    .dataframe thead tr th {\n",
       "        text-align: left;\n",
       "    }\n",
       "</style>\n",
       "<table border=\"1\" class=\"dataframe\">\n",
       "  <thead>\n",
       "    <tr>\n",
       "      <th></th>\n",
       "      <th></th>\n",
       "      <th colspan=\"2\" halign=\"left\">predictions</th>\n",
       "    </tr>\n",
       "    <tr>\n",
       "      <th></th>\n",
       "      <th></th>\n",
       "      <th>0</th>\n",
       "      <th>1</th>\n",
       "    </tr>\n",
       "  </thead>\n",
       "  <tbody>\n",
       "    <tr>\n",
       "      <th rowspan=\"2\" valign=\"top\">actual</th>\n",
       "      <th>0</th>\n",
       "      <td>489</td>\n",
       "      <td>20</td>\n",
       "    </tr>\n",
       "    <tr>\n",
       "      <th>1</th>\n",
       "      <td>23</td>\n",
       "      <td>25</td>\n",
       "    </tr>\n",
       "  </tbody>\n",
       "</table>\n",
       "</div>"
      ],
      "text/plain": [
       "         predictions    \n",
       "                   0   1\n",
       "actual 0         489  20\n",
       "       1          23  25"
      ]
     },
     "metadata": {},
     "output_type": "display_data"
    }
   ],
   "source": [
    "cmat = confusion_matrix(y_val, y_pred)\n",
    "cols = pd.MultiIndex.from_tuples(\n",
    "    [('predictions', 0), ('predictions', 1)]\n",
    ")\n",
    "indx = pd.MultiIndex.from_tuples(\n",
    "    [('actual', 0), ('actual', 1)]\n",
    ")\n",
    "    \n",
    "display(pd.DataFrame(cmat, columns=cols, index=indx))\n"
   ]
  },
  {
   "cell_type": "code",
   "execution_count": 21,
   "metadata": {},
   "outputs": [
    {
     "name": "stdout",
     "output_type": "stream",
     "text": [
      "              precision    recall  f1-score   support\n",
      "\n",
      "           0       0.96      0.96      0.96       509\n",
      "           1       0.56      0.52      0.54        48\n",
      "\n",
      "    accuracy                           0.92       557\n",
      "   macro avg       0.76      0.74      0.75       557\n",
      "weighted avg       0.92      0.92      0.92       557\n",
      "\n"
     ]
    }
   ],
   "source": [
    "\n",
    "print(classification_report(y_val, y_pred))"
   ]
  },
  {
   "cell_type": "code",
   "execution_count": 22,
   "metadata": {},
   "outputs": [
    {
     "data": {
      "text/plain": [
       "0.8926612639161755"
      ]
     },
     "execution_count": 22,
     "metadata": {},
     "output_type": "execute_result"
    }
   ],
   "source": [
    "roc_auc_score(y_val, lr.decision_function(X_val))"
   ]
  },
  {
   "cell_type": "code",
   "execution_count": 23,
   "metadata": {},
   "outputs": [
    {
     "data": {
      "text/plain": [
       "array([[0.95452829, 0.04547171],\n",
       "       [0.90473715, 0.09526285],\n",
       "       [0.94955118, 0.05044882],\n",
       "       ...,\n",
       "       [0.84552979, 0.15447021],\n",
       "       [0.89033285, 0.10966715],\n",
       "       [0.8247417 , 0.1752583 ]])"
      ]
     },
     "execution_count": 23,
     "metadata": {},
     "output_type": "execute_result"
    }
   ],
   "source": [
    "lr.predict_proba(X_val)"
   ]
  }
 ],
 "metadata": {
  "kernelspec": {
   "display_name": "marketing_MLOps",
   "language": "python",
   "name": "python3"
  },
  "language_info": {
   "codemirror_mode": {
    "name": "ipython",
    "version": 3
   },
   "file_extension": ".py",
   "mimetype": "text/x-python",
   "name": "python",
   "nbconvert_exporter": "python",
   "pygments_lexer": "ipython3",
   "version": "3.9.16"
  },
  "orig_nbformat": 4
 },
 "nbformat": 4,
 "nbformat_minor": 2
}

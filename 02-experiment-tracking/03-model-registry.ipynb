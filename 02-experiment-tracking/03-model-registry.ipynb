{
 "cells": [
  {
   "cell_type": "code",
   "execution_count": 1,
   "metadata": {},
   "outputs": [],
   "source": [
    "# Import the Client Class\n",
    "from mlflow.tracking import MlflowClient"
   ]
  },
  {
   "cell_type": "code",
   "execution_count": 2,
   "metadata": {},
   "outputs": [],
   "source": [
    "MLFLOW_TRACKING_URI = \"sqlite:///mlflow.db\" \n",
    "\n",
    "# Instantiate the Client object\n",
    "client = MlflowClient(tracking_uri=MLFLOW_TRACKING_URI)"
   ]
  },
  {
   "cell_type": "code",
   "execution_count": 3,
   "metadata": {},
   "outputs": [
    {
     "name": "stdout",
     "output_type": "stream",
     "text": [
      "run id: 3f9cccee87e64d07b1f3ebd8ae23d099,        precision: 0.5373,        recall: 0.7500\n",
      "run id: 2cd83bd14e6a4dd7a2ad2539c20b732a,        precision: 0.5333,        recall: 0.5000\n"
     ]
    }
   ],
   "source": [
    "# Check best runs in experiment id 1 (all models)\n",
    "from mlflow.entities import ViewType\n",
    "runs = client.search_runs(\n",
    "    experiment_ids=1,\n",
    "    filter_string='metrics.precision > 0.523',\n",
    "    run_view_type=ViewType.ACTIVE_ONLY,\n",
    "    max_results=7,\n",
    "    order_by=['metrics.precision DESC']\n",
    ")\n",
    "\n",
    "for run in runs:\n",
    "    print(f\"run id: {run.info.run_id},\\\n",
    "        precision: {run.data.metrics['precision']:.4f},\\\n",
    "        recall: {run.data.metrics['recall']:.4f}\")"
   ]
  },
  {
   "cell_type": "code",
   "execution_count": 4,
   "metadata": {},
   "outputs": [],
   "source": [
    "# Promoting models to model registry\n",
    "import mlflow\n",
    "mlflow.set_tracking_uri(MLFLOW_TRACKING_URI)"
   ]
  },
  {
   "cell_type": "code",
   "execution_count": 5,
   "metadata": {},
   "outputs": [
    {
     "name": "stderr",
     "output_type": "stream",
     "text": [
      "2023/06/22 10:33:48 INFO mlflow.tracking._model_registry.client: Waiting up to 300 seconds for model version to finish creation. Model name: marketing-campaign-classifier, version 3\n"
     ]
    },
    {
     "data": {
      "text/plain": [
       "<ModelVersion: aliases=[], creation_timestamp=1687419228349, current_stage='Staging', description=('Random Forest Classifier with default parameter        showed to be the best '\n",
       " 'model'), last_updated_timestamp=1687419228439, name='marketing-campaign-classifier', run_id='runs:/3f9cccee87e64d07b1f3ebd8ae23d099/model', run_link=None, source='mlruns/1/3f9cccee87e64d07b1f3ebd8ae23d099/artifacts/model', status='READY', status_message=None, tags={}, user_id=None, version=3>"
      ]
     },
     "execution_count": 5,
     "metadata": {},
     "output_type": "execute_result"
    }
   ],
   "source": [
    "# Register the default Random Forest Classifier\n",
    "register_name = 'marketing-campaign-classifier'\n",
    "rfc_log_model = 'runs:/3f9cccee87e64d07b1f3ebd8ae23d099/model'\n",
    "\n",
    "client.create_model_version(\n",
    "    name=register_name,\n",
    "    source=\"mlruns/1/3f9cccee87e64d07b1f3ebd8ae23d099/artifacts/model\", \n",
    "    run_id=rfc_log_model,\n",
    "    description=f\"Random Forest Classifier with default parameter\\\n",
    "        showed to be the best model\",\n",
    ")\n",
    "\n",
    "# Transition it to staging\n",
    "client.transition_model_version_stage(\n",
    "    name=register_name,\n",
    "    version=3,\n",
    "    stage=\"staging\",\n",
    "    archive_existing_versions=False\n",
    ")"
   ]
  },
  {
   "cell_type": "code",
   "execution_count": null,
   "metadata": {},
   "outputs": [],
   "source": []
  },
  {
   "cell_type": "code",
   "execution_count": 6,
   "metadata": {},
   "outputs": [
    {
     "name": "stderr",
     "output_type": "stream",
     "text": [
      "2023/06/22 10:33:48 INFO mlflow.tracking._model_registry.client: Waiting up to 300 seconds for model version to finish creation. Model name: marketing-campaign-classifier, version 4\n"
     ]
    },
    {
     "data": {
      "text/plain": [
       "<ModelVersion: aliases=[], creation_timestamp=1687419228597, current_stage='Production', description=\"Gradient Boosting Classifier turned out to be the 'best' model\", last_updated_timestamp=1687419228680, name='marketing-campaign-classifier', run_id='runs:/dea7e33c2f064ec28b844a20a4dbf41c/model', run_link=None, source='mlruns/8/dea7e33c2f064ec28b844a20a4dbf41c/artifacts/model', status='READY', status_message=None, tags={}, user_id=None, version=4>"
      ]
     },
     "execution_count": 6,
     "metadata": {},
     "output_type": "execute_result"
    }
   ],
   "source": [
    "# Register the GradientBoosting Classifier (best model)\n",
    "gbc_log_model = 'runs:/dea7e33c2f064ec28b844a20a4dbf41c/model'\n",
    "client.create_model_version(\n",
    "    name=register_name,\n",
    "    source=\"mlruns/8/dea7e33c2f064ec28b844a20a4dbf41c/artifacts/model\", \n",
    "    run_id=gbc_log_model,\n",
    "    description=f\"Gradient Boosting Classifier turned out to be the 'best' model\",\n",
    ")\n",
    "# Transition it to production\n",
    "client.transition_model_version_stage(\n",
    "    name=register_name,\n",
    "    version=4,\n",
    "    stage=\"production\",\n",
    "    archive_existing_versions=False\n",
    ")"
   ]
  },
  {
   "cell_type": "code",
   "execution_count": 7,
   "metadata": {},
   "outputs": [
    {
     "name": "stdout",
     "output_type": "stream",
     "text": [
      "version: 2, stage: None\n",
      "version: 3, stage: Staging\n",
      "version: 4, stage: Production\n"
     ]
    }
   ],
   "source": [
    "# Check the list of latest model versions\n",
    "latest_versions = client.get_latest_versions(name=register_name)\n",
    "for version in latest_versions:\n",
    "    print(f\"version: {version.version}, stage: {version.current_stage}\")"
   ]
  },
  {
   "cell_type": "code",
   "execution_count": 8,
   "metadata": {},
   "outputs": [],
   "source": [
    "# See which model to promote "
   ]
  },
  {
   "cell_type": "code",
   "execution_count": null,
   "metadata": {},
   "outputs": [],
   "source": []
  }
 ],
 "metadata": {
  "kernelspec": {
   "display_name": "marketing_MLOps",
   "language": "python",
   "name": "python3"
  },
  "language_info": {
   "codemirror_mode": {
    "name": "ipython",
    "version": 3
   },
   "file_extension": ".py",
   "mimetype": "text/x-python",
   "name": "python",
   "nbconvert_exporter": "python",
   "pygments_lexer": "ipython3",
   "version": "3.9.16"
  },
  "orig_nbformat": 4
 },
 "nbformat": 4,
 "nbformat_minor": 2
}
